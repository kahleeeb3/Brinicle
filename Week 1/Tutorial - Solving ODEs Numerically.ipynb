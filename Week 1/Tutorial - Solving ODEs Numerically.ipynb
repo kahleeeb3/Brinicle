{
 "cells": [
  {
   "cell_type": "markdown",
   "metadata": {},
   "source": [
    "<h1>Solving ODEs Numerically</h1>\n",
    "\n",
    "In earlier courses, you have often come across systems whose temporal evolution is governed by ordinary differential equations, i.e., equations relating dynamical variables and their derivatives. Examples of these include mechanical systems like objects falling under gravity or masses on  springs, which obey Newton's 2<sup>nd</sup> law and are governed by equations like\n",
    "\n",
    "\\begin{equation}\n",
    "m\\ddot{y} = -mg \\quad \\mathrm{and} \\quad m\\ddot{x}=-kx\n",
    "\\end{equation}\n",
    "\n",
    "or electrical circuits, which are governed by equations like\n",
    "\n",
    "\\begin{equation}\n",
    "R\\dot{Q} + Q/C = 0.\n",
    "\\end{equation}\n",
    "\n",
    "The solutions to these equations allow us to compute the time evolution of the dynamical variables ($x$, $y$, and $Q$) given an appropriate set of initial conditions. \n",
    "\n",
    "For the examples given above, it is relatively straightforward to solve these equations by integrating them and show that\n",
    "\n",
    "\\begin{align}\n",
    "y(t) &= y_0 + v_0t-\\frac{1}{2}gt^2,\\\\\n",
    "x(t) &= A_0\\sin(\\omega t + \\phi)\\quad \\mathrm{w/}\\quad \\omega = \\sqrt{k/m},\\\\\n",
    "\\mathrm{and}\\quad Q(t) &= Q_0 e^{-\\frac{t}{RC}}.\n",
    "\\end{align}\n",
    "\n",
    "Now consider another familiar example, the equation that governs the simple pendulum. The angle $\\theta$ that the pendulum makes with respect to the vertical evolves according to\n",
    "\n",
    "\\begin{equation}\n",
    "\\ddot{\\theta} = - \\frac{g}{L}\\sin(\\theta),\n",
    "\\end{equation}\n",
    "\n",
    "where $g$ is the acceleration due to gravity and $L$ is the length of the pendulum. How can we solve this?\n",
    "\n",
    "The usual approach involves assuming that we only need to worry about small deflection angles so that $\\sin(\\theta) \\approx \\theta$. Then, the system can be approximated as a simple harmonic oscillator, which we know how to solve since we can solve the mass on a spring problem.\n",
    "\n",
    "What happens if we allow the pendulum to swing out to large angles, though? In this case, the small angle approximation breaks down, which means that our approximate solution for $\\theta$ also breaks down and we have to come up with an alternative solution. It turns out that the pendulum problem can be solved analytically in terms of special functions called elliptic integrals but, in general, the dynamical equations governing physical systems cannot be solved in closed form. Instead scientists and engineers must resort to constructing approximate solutions numerically.\n",
    "\n",
    "In this module, you will:\n",
    "\n",
    "<ul>\n",
    "    <li>Learn some basic algorithms for integrating systems of ordinary differential equations.</li>\n",
    "    <li>Write your own implementation of the 4th order Runge-Kutta method in Python.</li>\n",
    "    <li>Compare several numerical methods for accuracy and speed.</li>\n",
    "    <li>Learn how to integrate ordinary differential equations using <tt>scipy</tt>'s built-in solvers.</li>\n",
    "</ul>\n",
    "\n",
    "First, let's import some Python libraries to help us with our calculations and to plot our results."
   ]
  },
  {
   "cell_type": "code",
   "execution_count": 1,
   "metadata": {},
   "outputs": [],
   "source": [
    "%matplotlib inline\n",
    "import numpy as np # Import numerical methods library\n",
    "import matplotlib.pyplot as plt # Import plotting library"
   ]
  },
  {
   "cell_type": "markdown",
   "metadata": {},
   "source": [
    "Note: The discussion and problems below closely follow Section 2.8 of S.H. Strogatz's <i>Nonlinear Dynamics and Chaos</i>. If you look into it, you will find that the literature on numerical methods is incredibly vast. An in-depth survey is available in <i>Numerical Recipes: The Art of Scientific Computing</i> by W.H. Press et al."
   ]
  },
  {
   "cell_type": "markdown",
   "metadata": {},
   "source": [
    "<h2>The Euler method</h2>\n",
    "\n",
    "One of the simplest algorithms to numerically integrate ordinary differential equations is called <i>Euler's method</i>. Suppose that we have a differential equation $\\dot{x}=f(x)$ (here we will use Newton notation, so that $\\dot{x}=dx/dt$, $\\ddot{x}=d^2x/dt^2$, etc.) and an <i>initial condition</i> $x(t_0)=x_0$ and we want to find a solution for $x$ at some later time $T$. Given that we know the value of $x$ at $t_0$, we can use a Taylor series to approximate $x$ a short time interval $\\Delta t$ later, i.e.,\n",
    "\n",
    "\\begin{equation}\n",
    "x(t_0+\\Delta t) \\approx x(t_0) + \\dot{x}(t_0)\\Delta t + ...\n",
    "\\end{equation}\n",
    "\n",
    "This means that if we let $x_1$ be the value of $x$ after one time step $\\Delta t$, then\n",
    "\n",
    "\\begin{equation}\n",
    "x_1 \\approx x_0 + f(x_0)\\Delta t.\n",
    "\\end{equation}\n",
    "\n",
    "Now that we have an approximation for $x$ at $t_1$, we can use this to construct an approximation for $x$ at $t_2$ by <i>iteration</i>, i.e., $x_2 \\approx x_1 + f(x_1)\\Delta t$. We can repeat this process until $t$ equals our target time $T$, by using the following recursive algorithm:\n",
    "\n",
    "\\begin{equation}\n",
    "x_{n+1} = x_n + f(x_n)\\Delta t.\n",
    "\\end{equation}\n",
    "\n",
    "Let's implement this in Python. First, we need to define a function <tt>EulerStep</tt>, which takes in an initial condition <tt>x0</tt>, a time step <tt>deltat</tt>, and the time derivative <tt>f</tt> of $x$ as a function of $t$ and iterates one step forward in time using Euler's method. \n"
   ]
  },
  {
   "cell_type": "code",
   "execution_count": 2,
   "metadata": {},
   "outputs": [],
   "source": [
    "def EulerStep(x0,deltat,f):\n",
    "    return x0 + f(x0)*deltat"
   ]
  },
  {
   "cell_type": "markdown",
   "metadata": {},
   "source": [
    "Now we can write a function <tt>Euler</tt> to iterate <tt>EulerStep</tt> over and over until we hit a maximum time $T$. This should take in the same inputs as <tt>EulerStep</tt>, but also an input <tt>t0</tt> for the initial integration time and an input <tt>T</tt> for the maximum integration time."
   ]
  },
  {
   "cell_type": "code",
   "execution_count": 3,
   "metadata": {},
   "outputs": [],
   "source": [
    "def Euler(x0,t0,T,deltat,f):\n",
    "    # Set initial time and x value\n",
    "    t = t0\n",
    "    x = x0\n",
    "    \n",
    "    # Do Euler steps until t hits T\n",
    "    while t < T:\n",
    "        x = EulerStep(x,deltat,f) # Update x\n",
    "        t = t + deltat # Update time\n",
    "    \n",
    "    return x"
   ]
  },
  {
   "cell_type": "markdown",
   "metadata": {},
   "source": [
    "Now that we have implemented Euler's method, let's try it out. Suppose we wanted to solve the following differential equation:\n",
    "\n",
    "\\begin{equation}\n",
    "\\dot{x}=-x\n",
    "\\end{equation}\n",
    "\n",
    "with $x(0)=1$. In order to see how well Euler's method does, let's first solve the equation analytically. Note this will not typically be possible.\n",
    "\n",
    "<b>In the cell below, solve the differential equation $\\dot{x}=-x$ for $x(0)=1$.</b>"
   ]
  },
  {
   "cell_type": "markdown",
   "metadata": {},
   "source": [
    "$$\\dot{x}=-x\\\\\n",
    "\\frac{1}{x}\\dot{x}=-1\\\\\n",
    "\\frac{1}{x}\\frac{dy}{dx}=-1\\\\\n",
    "ln(x)=-t+c\\\\\n",
    "x(t)= e^{-x+c}\\\\\n",
    "x(0)=1\\\\\n",
    "x(t)= e^{-x}$$"
   ]
  },
  {
   "cell_type": "markdown",
   "metadata": {},
   "source": [
    "Now we will use Euler's method to find the value of $x$ at $t=1$. Since $t=0$ and $t=1$ are not very far apart (or are they?), let's use a time step of $\\Delta t=1$.\n",
    "\n",
    "<b>In the cell below, write a function <tt>f(x)</tt> that returns $-x$ and then use <tt>Euler</tt> to integrate this forward from $x(0) = 1$ and find $x(1)$ using a time step <tt>deltat</tt> of 1. Compare your result to the exact solution.</b> "
   ]
  },
  {
   "cell_type": "code",
   "execution_count": 9,
   "metadata": {},
   "outputs": [],
   "source": [
    "def Decay(x):\n",
    "    y = (-1)*x\n",
    "    return y # Finish this code"
   ]
  },
  {
   "cell_type": "code",
   "execution_count": 10,
   "metadata": {},
   "outputs": [
    {
     "data": {
      "text/plain": [
       "0"
      ]
     },
     "execution_count": 10,
     "metadata": {},
     "output_type": "execute_result"
    }
   ],
   "source": [
    "Euler(1,0,1,1,Decay)"
   ]
  },
  {
   "cell_type": "markdown",
   "metadata": {},
   "source": [
    "Hmmm... that was in the right ballpark (at least we didn't get -3,543,621.5!) but not great. \n",
    "\n",
    "<b>In the cell below, discuss what you think went wrong? Why did Euler's method fail to give us an accurate result?</b>"
   ]
  },
  {
   "cell_type": "markdown",
   "metadata": {},
   "source": [
    "... your answer here ..."
   ]
  },
  {
   "cell_type": "markdown",
   "metadata": {},
   "source": [
    "... your explanation here ..."
   ]
  },
  {
   "cell_type": "markdown",
   "metadata": {},
   "source": [
    "As you probably figured out, the problem is that in deriving Euler's method, we have implicitly assumed that $f(x)$ is approximately constant over each time step. For $x(t) = e^{-t}$, the slope of the graph changes significantly over the time interval from $t=0$ to $t=1$. By using a time step of one, we are essentially approximating the exponential function with a line, which doesn't work very well. We can do better if we break up the interval into smaller steps.\n",
    "\n",
    "<b>In the cell below, use Euler's method to numerically compute $x(1)$ using time steps of $1$, $0.5$, $10^{-1}$, $10^{-2}$, $10^{-3}$, and $10^{-4}$. Then compute the error in your calculation $E = |x_{numeric}(1) - x_{analytic}(1)|$ and plot it as function of $\\Delta t$. Also plot $\\ln E$ vs $\\ln \\Delta t$. In your plots, you'll want to make sure to plot dots instead of connected lines. Discuss any trends that you see.</b>"
   ]
  },
  {
   "cell_type": "code",
   "execution_count": 166,
   "metadata": {},
   "outputs": [
    {
     "data": {
      "text/plain": [
       "Text(0, 0.5, 'Error')"
      ]
     },
     "execution_count": 166,
     "metadata": {},
     "output_type": "execute_result"
    },
    {
     "data": {
      "image/png": "[encoded data removed]",
      "text/plain": [
       "<Figure size 432x288 with 1 Axes>"
      ]
     },
     "metadata": {
      "needs_background": "light"
     },
     "output_type": "display_data"
    }
   ],
   "source": [
    "import matplotlib.pyplot as plt\n",
    "\n",
    "# Get the values\n",
    "dt = [1,1e-1,1e-2,1e-3,1e-4,1e-5]\n",
    "calc = [0 for i in range(6)]\n",
    "for i, x in enumerate(dt):\n",
    "    calc[i] = Euler(1,0,1,dt[i],Decay)\n",
    "\n",
    "# Calculate the Error\n",
    "exact = np.exp(-1)\n",
    "error = [0,1,2,3,4,5]\n",
    "for i, x in enumerate(calc):\n",
    "    error[i] = abs(exact-calc[i])\n",
    "    \n",
    "# Plot\n",
    "plt.scatter(np.log(dt),np.log(error))\n",
    "plt.xlabel('Step Size')\n",
    "plt.ylabel('Error')"
   ]
  },
  {
   "cell_type": "markdown",
   "metadata": {},
   "source": [
    "You should have noticed a couple of things:\n",
    "\n",
    "<ol>\n",
    "    <li>As you make $\\Delta t$ smaller, your approximation for $x(1)$ got better and better.</li>\n",
    "    <li>The data on the log-log plot roughly falls on a line with a slope of 1, which means that $E \\propto \\Delta t$. We say that Euler's method is a first-order method since the error scales like $\\Delta t^1$.\n",
    "</ol>\n",
    "\n",
    "While the first trend is good because it means that we can get more accurate solutions by making the time step smaller, the second one is not ideal since it means that if you want really accurate answers, you'll need really small time steps. In practice, this means that your computer will have to do a ton of iterations, which will make your code run slowly. Furthermore, since computers can only represent numbers up to a certain precision, each iteration will introduce a little bit of error as calculations are rounded off. Even though these <i>round-off errors</i> are very small, they gradually add up and mess up our calculation. \n",
    "\n",
    "To see where $E \\propto \\Delta t$ scaling comes from, note that in deriving the Euler method we dropped terms of order $\\Delta t^2$ from the Taylor expansion of $x(t+\\Delta t)$. This means that when we substract our approximate expression for $x$ after a single step from the exact expression involving all the terms in the Taylor expansion, the difference between the two expressions (called the <i>local error</i> $E_{local}$) is $\\mathcal{O}(\\Delta t^2)$. In order to integrate over a time interval $T$, we need to take $n = T/\\Delta t$ steps, so the <i>global error</i> in our calculation is $\\approx n E_{step} \\sim \\mathcal{O}(\\Delta t)$.\n",
    "\n",
    "In the following sections, we will learn about some more advanced methods that allow us to reduce the error in each step, thereby allowing us to compute things more accurately and quickly."
   ]
  },
  {
   "cell_type": "markdown",
   "metadata": {},
   "source": [
    "<h2>The Improved Euler method</h2>\n",
    "\n",
    "As we saw above, the main source of error in the Euler method stems from the fact that we assumed that the slope of the graph of $x$ vs. $t$ (i.e., $f(x)$) was roughly constant across the interval (and equal to its value on the left end of the interval). In order to improve this estimate, it would be nice to know, say, an average slope over the interval. While we can't compute this exactly since we don't know what $x$ is across the interval, we can make an educated guess by doing the following:\n",
    "\n",
    "<ol>\n",
    "    <li>First, we'll take a regular Euler step to get an estimate $\\tilde{x}_{n+1}$ for what $x$ will be at the end of the interval. We know this isn't perfect, but it's better than nothing.</li>\n",
    "    <li>Now that we know the approximate value for $x$ at the interval, we can use this to estimate what the derivative would be at this point by evaluating $f(\\tilde{x}_{n+1})$.</li>\n",
    "    <li>Finally, we compute an average slope over the interval and use this to compute $x_{n+1}$, i.e.,\n",
    "        \\begin{equation}\n",
    "        x_{n+1} = x_n + \\frac{1}{2}[f(x_n) + f(\\tilde{x}_{n+1})]\\Delta t.\n",
    "        \\end{equation}\n",
    "        </li>\n",
    "</ol>\n",
    "\n",
    "This algorithm is called the <i>Improved Euler method</i>. Intuitively, it should make sense that this is more accurate than th Euler method since we make a better approximation of the derivative over the time interval. But how much better is it?\n",
    "\n",
    "<b>In the cell below, write a Python function <tt>ImprovedEuler</tt> that implements the Improved Euler method. You may do this in two steps as we did for the Euler method or wrap the whole calculation into a single function.</b>"
   ]
  },
  {
   "cell_type": "code",
   "execution_count": 142,
   "metadata": {},
   "outputs": [],
   "source": [
    "def ImprovedEulerStep(x0,deltat,f):\n",
    "    xt = EulerStep(x0,deltat,f)\n",
    "    return x0 + 1/2*(f(x0)+f(xt))*deltat\n",
    "def ImprovedEuler(x0,t0,T,deltat,f):\n",
    "    # Set initial time and x value\n",
    "    t = t0\n",
    "    x = x0\n",
    "    \n",
    "    # Do Euler steps until t hits T\n",
    "    while t < T:\n",
    "        x = ImprovedEulerStep(x,deltat,f) # Update x\n",
    "        t = t + deltat # Update time\n",
    "    \n",
    "    return x"
   ]
  },
  {
   "cell_type": "markdown",
   "metadata": {},
   "source": [
    "Now that you have finished writing your function, let's compare see how well it does.\n",
    "\n",
    "<b>In the cell below, use the Improved Euler method to numerically compute $x(1)$ using time steps of $1$, $0.5$, $10^{-1}$, $10^{-2}$, and $10^{-3}$. Then compute the error in your calculation $E = |x_{numeric}(1) - x_{analytic}(1)|$ and plot $\\ln E$ vs $\\ln \\Delta t$. In your plots, you'll want to make sure to plot dots instead of connected lines. From your data determine what order the Improved Euler method is (i.e., Is $E \\propto \\Delta t,\\,\\Delta t^2,\\,\\Delta t^3$, etc.?).</b>"
   ]
  },
  {
   "cell_type": "code",
   "execution_count": 167,
   "metadata": {
    "scrolled": true
   },
   "outputs": [
    {
     "name": "stdout",
     "output_type": "stream",
     "text": [
      "[0.5, 0.33352959127436443, 0.367885618716192, 0.36787950253069096, 0.3678426556798375, 0.3678757624015536]\n",
      "Exact: 0.36787944117144233\n"
     ]
    },
    {
     "data": {
      "text/plain": [
       "Text(0, 0.5, 'Error')"
      ]
     },
     "execution_count": 167,
     "metadata": {},
     "output_type": "execute_result"
    },
    {
     "data": {
      "image/png": "[encoded data removed]",
      "text/plain": [
       "<Figure size 432x288 with 1 Axes>"
      ]
     },
     "metadata": {
      "needs_background": "light"
     },
     "output_type": "display_data"
    }
   ],
   "source": [
    "dt = [1,1e-1,1e-2,1e-3,1e-4,1e-5]\n",
    "exact = np.exp(-1)\n",
    "\n",
    "#calc values\n",
    "calc = [0 for i in range(6)]\n",
    "for i, x in enumerate(dt):\n",
    "    calc[i] = ImprovedEuler(1,0,1,dt[i],Decay)\n",
    "\n",
    "#calc error\n",
    "error = [0 for i in range(6)]\n",
    "for i, x in enumerate(dt):\n",
    "    error[i] = abs(exact - calc[i])\n",
    "\n",
    "print(calc)\n",
    "print(f'Exact: {exact}')\n",
    "\n",
    "# Plot\n",
    "plt.scatter(np.log(dt),np.log(error))\n",
    "plt.xlabel('Step Size')\n",
    "plt.ylabel('Error')"
   ]
  },
  {
   "cell_type": "markdown",
   "metadata": {},
   "source": [
    "Since the log-log plot of the data follows a roughly linear trend with a slope of $2$, we can see that $E \\propto \\Delta t^2$. This is a marked improvement over the Euler method since now if we reduce the time step by a factor of $2$, we <i>quadruple</i> the accuracy of the calculation. On the flip side, the calculation now takes twice as long for a given time step since we have to evaluate two lines of code per iteration in the <tt>while</tt> loop instead of one. However, since the Improved Euler method is more accurate, we can probably get away with using a larger time step to get a prescribed level of accuracy.\n",
    "\n",
    "While hopefully the discussion above gave you a conceptual understanding of why the Improved Euler method is more accurate (i.e., we make a better approximation of the slope of the function in a given time interval), technically the reason that it is more accurate is because when we compute its Taylor series expansion, the first three terms (i.e., the 0<sup>th</sup>, 1<sup>st</sup>, and 2<sup>nd</sup> order terms in $\\Delta t$) are identical to the first three terms of the complete Taylor series expansion of $x(t+\\Delta t)$ and thus the local error $E_{local}$ is $\\mathcal{O}(\\Delta t^3)$, so that the global error $E_{global} = n E_{local}$ after $n = T/\\Delta t$ steps is $\\mathcal{O}(\\Delta t^2)$."
   ]
  },
  {
   "cell_type": "markdown",
   "metadata": {},
   "source": [
    "<h2>The Runge-Kutta method</h2>\n",
    "\n",
    "One can keep playing this game and come up with more and more accurate numerical methods. However, this accuracy come at the cost of having to do more calculations per step, so in practice scientists don't use very high order methods unless they have to. One algorithm that is a good compromise of speed and accuracy is the fourth-order Runge-Kutta method.\n",
    "\n",
    "The Runge-Kutta method proceed as follows:\n",
    "\n",
    "<ol>\n",
    "    <li>Compute $k_1 = f(x_n)\\Delta t$</li>\n",
    "    <li>Compute $k_2 = f(x_n + \\frac{1}{2}k_1)\\Delta t$</li>\n",
    "    <li>Compute $k_3 = f(x_n + \\frac{1}{2}k_2)\\Delta t$</li>\n",
    "    <li>Compute $k_4 = f(x_n + k_3)\\Delta t$</li>\n",
    "    <li>Then $x_{n+1}$ is given by\n",
    "        \\begin{equation}\n",
    "        x_{n+1} = x_n + \\frac{1}{6}(k_1+2k_2 +2k_3 + k_4).\n",
    "        \\end{equation}\n",
    "</ol>\n",
    "\n",
    "This may seem ad-hoc, but it turns out that it makes it so that the first five terms in its Taylor expansion exactly match the first five terms in the full Taylor expansion of $x(t+\\Delta t)$. This gives the Runge-Kutta method a local error of $\\mathcal{O}(\\Delta t^5)$ and a global error of $\\mathcal{O}(\\Delta t^4)$. Let's implement the Runge-Kutta method so we can compare it to the methods that we learned before.\n",
    "\n",
    "<b>In the cell below, write a Python function <tt>RungeKutta</tt> that implements the Runge-Kutta method. You may do this in two steps as we did for the Euler method or wrap the whole calculation into a single function.</b>"
   ]
  },
  {
   "cell_type": "code",
   "execution_count": 175,
   "metadata": {},
   "outputs": [],
   "source": [
    "def RungeKuttaStep(xn,deltat,f):\n",
    "    k1 = f(xn)*deltat\n",
    "    k2 = f(xn + 0.5*k1)*deltat\n",
    "    k3 = f(xn + 0.5*k2)*deltat\n",
    "    k4 = f(xn + k3)*deltat\n",
    "    xt = xn+ 1/6*(k1+2*k2+2*k3+k4)\n",
    "    return xt\n",
    "def RungeKutta(x0,t0,T,deltat,f):\n",
    "    # Set initial time and x value\n",
    "    t = t0\n",
    "    x = x0\n",
    "    \n",
    "    # Do steps until t hits T\n",
    "    while t < T:\n",
    "        x = RungeKuttaStep(x,deltat,f) # Update x\n",
    "        t = t + deltat # Update time\n",
    "    \n",
    "    return x"
   ]
  },
  {
   "cell_type": "markdown",
   "metadata": {},
   "source": [
    "Let's now compare the three methods (Euler, Improved Euler, and Runge-Kutta) by using them to solve a problem that cannot be solved analytically. \n",
    "\n",
    "<b>In the cell below, use the Euler method to find $x(1)$ to three decimal places given that $\\dot{x} = x + e^{-x}$ and $x(0) = 0$. Starting with $\\Delta t = 1$, use progressively smaller time steps until the fourth decimal place in your answer stops changing.</b>"
   ]
  },
  {
   "cell_type": "code",
   "execution_count": 211,
   "metadata": {},
   "outputs": [],
   "source": [
    "def Decay(x):\n",
    "    y = x + np.exp(-x)\n",
    "    return y # Finish this code"
   ]
  },
  {
   "cell_type": "code",
   "execution_count": 212,
   "metadata": {},
   "outputs": [
    {
     "name": "stdout",
     "output_type": "stream",
     "text": [
      "Value: 3.069\n",
      "Steps: 5 (1e-05)\n"
     ]
    }
   ],
   "source": [
    "dt = [1,1e-1,1e-2,1e-3,1e-4,1e-5]\n",
    "exact = np.exp(-1)\n",
    "\n",
    "#calc values\n",
    "calc = [0 for i in range(6)]\n",
    "for i, x in enumerate(dt):\n",
    "    # gets the value\n",
    "    value = Euler(1,0,1,dt[i],Decay)\n",
    "    # reduce the number of decimal places\n",
    "    formatted_string = \"{:.3f}\".format(value)\n",
    "    # store the value\n",
    "    calc[i] = float(formatted_string)\n",
    "    # find where the answer stops changing\n",
    "    if i > 0:\n",
    "        if calc[i] == calc[i-1]:\n",
    "            print(f'Value: {calc[i]}\\nSteps: {i} ({dt[i]})')\n",
    "            break"
   ]
  },
  {
   "cell_type": "markdown",
   "metadata": {},
   "source": [
    "<b>Now let's test the Improved Euler method. In the cell below, use the Improved Euler method to find $x(1)$ to three decimal places given that $\\dot{x} = x + e^{-x}$ and $x(0) = 0$. Starting with $\\Delta t = 1$, use progressively smaller time steps until the fourth decimal place in your answer stops changing.</b>"
   ]
  },
  {
   "cell_type": "code",
   "execution_count": 213,
   "metadata": {},
   "outputs": [
    {
     "name": "stdout",
     "output_type": "stream",
     "text": [
      "Value: 3.069\n",
      "Steps: 3 (0.001)\n"
     ]
    }
   ],
   "source": [
    "dt = [1,1e-1,1e-2,1e-3,1e-4,1e-5]\n",
    "exact = np.exp(-1)\n",
    "\n",
    "#calc values\n",
    "calc = [0 for i in range(6)]\n",
    "for i, x in enumerate(dt):\n",
    "    # gets the value\n",
    "    value = ImprovedEuler(1,0,1,dt[i],Decay)\n",
    "    # reduce the number of decimal places\n",
    "    formatted_string = \"{:.3f}\".format(value)\n",
    "    # store the value\n",
    "    calc[i] = float(formatted_string)\n",
    "    # find where the answer stops changing\n",
    "    if i > 0:\n",
    "        if calc[i] == calc[i-1]:\n",
    "            print(f'Value: {calc[i]}\\nSteps: {i} ({dt[i]})')\n",
    "            break"
   ]
  },
  {
   "cell_type": "markdown",
   "metadata": {},
   "source": [
    "<b>Finally, let's test the Runge-Kutta method. In the cell below, use the Runge-Kutta method to find $x(1)$ to three decimal places given that $\\dot{x} = x + e^{-x}$ and $x(0) = 0$. Starting with $\\Delta t = 1$, use progressively smaller time steps until the fourth decimal place in your answer stops changing.</b>"
   ]
  },
  {
   "cell_type": "code",
   "execution_count": 214,
   "metadata": {},
   "outputs": [
    {
     "name": "stdout",
     "output_type": "stream",
     "text": [
      "Value: 3.069\n",
      "Steps: 3 (0.001)\n"
     ]
    }
   ],
   "source": [
    "dt = [1,1e-1,1e-2,1e-3,1e-4,1e-5]\n",
    "exact = np.exp(-1)\n",
    "\n",
    "#calc values\n",
    "calc = [0 for i in range(6)]\n",
    "for i, x in enumerate(dt):\n",
    "    # gets the value\n",
    "    value = RungeKutta(1,0,1,dt[i],Decay)\n",
    "    # reduce the number of decimal places\n",
    "    formatted_string = \"{:.3f}\".format(value)\n",
    "    # store the value\n",
    "    calc[i] = float(formatted_string)\n",
    "    # find where the answer stops changing\n",
    "    if i > 0:\n",
    "        if calc[i] == calc[i-1]:\n",
    "            print(f'Value: {calc[i]}\\nSteps: {i} ({dt[i]})')\n",
    "            break"
   ]
  },
  {
   "cell_type": "markdown",
   "metadata": {},
   "source": [
    "As you can see, the Runge-Kutta method is way more efficient that the Improved Euler method, which in turn is way more efficient than the Euler method."
   ]
  },
  {
   "cell_type": "markdown",
   "metadata": {},
   "source": [
    "<h3>Integrating ODEs using <tt>scipy</tt></h3>\n",
    "\n",
    "At this point you might be wondering: If scientists use numerical integration all the time, then obviously somebody has to have implemented this in a Python library, right? Well, you are correct! The <tt>scipy</tt> library has a whole module dedicated to numerical integration called <tt>scipy.integrate</tt>. This contains the function <tt>odeint</tt>, which implements a family of different ODE <i>solvers</i> that are similar to the Runge-Kutta method but with more bells and whistles. Let's import it!"
   ]
  },
  {
   "cell_type": "code",
   "execution_count": 215,
   "metadata": {},
   "outputs": [],
   "source": [
    "from scipy.integrate import odeint"
   ]
  },
  {
   "cell_type": "markdown",
   "metadata": {},
   "source": [
    "In order to use <tt>odeint</tt>, your derivative function <tt>f</tt> must take at least two arguments: \n",
    "\n",
    "<ul>\n",
    "    <li><tt>X</tt> for the current state of the system. This can be a vector if the system has more than one dynamical variable, e.g., position and velocity.</li> \n",
    "    <li><tt>t</tt> for the current time (even if your dynamics do not depend explicitly on time). These two must appear in this order explicitly.</li>\n",
    "</ul>\n",
    "\n",
    "There can be additional parameters but they must appear after <tt>t</tt>. For example, the following function would describe an object falling near the surface of a planet with gravitational acceleration <tt>g</tt>:"
   ]
  },
  {
   "cell_type": "code",
   "execution_count": 216,
   "metadata": {},
   "outputs": [],
   "source": [
    "def f(Y,t,g):\n",
    "    y,v = Y # Unpack vector Y = (y,v) of current state of the system\n",
    "    dydt = v # Time rate of change of y-position\n",
    "    dvdt = -g # Acceleration from Newton's second law\n",
    "    dYdt = [dydt, dvdt] # Pack rates of change of dynamical variables into single vector\n",
    "    return dYdt"
   ]
  },
  {
   "cell_type": "markdown",
   "metadata": {},
   "source": [
    "Suppose that we know that $y(0)=3$ m and $v(0)=18$ m/s. We can integrate this to find $y$ as a function of $t$ for $t \\in [0,5]$ s using <tt>odeint</tt> as follows:"
   ]
  },
  {
   "cell_type": "code",
   "execution_count": 217,
   "metadata": {},
   "outputs": [
    {
     "data": {
      "image/png": "[encoded data removed]",
      "text/plain": [
       "<Figure size 432x288 with 1 Axes>"
      ]
     },
     "metadata": {
      "needs_background": "light"
     },
     "output_type": "display_data"
    }
   ],
   "source": [
    "y0 = 3 # Define initial position\n",
    "v0 = 18 # Define initial velocity\n",
    "g = 9.8 # Define gravitational acceleration\n",
    "T = np.linspace(0,5) # Defines vector of times (1000 points between endpoints by default)\n",
    "\n",
    "Y = odeint(f,[y0,v0],T,args=(g,)); # Integrate ODE numerically. If there were more parameters, they would go in the tuple with g.\n",
    "\n",
    "# Plot results\n",
    "plt.plot(T,Y[:,0],'.') # Plot position (stored in the first (0th) column of Y) vs. time\n",
    "plt.xlabel('time [s]')\n",
    "plt.ylabel('position [m]');"
   ]
  },
  {
   "cell_type": "markdown",
   "metadata": {},
   "source": [
    "In general, it is usually more efficient to use <tt>scipy</tt>'s built-in ODE solvers than to write your own since these call on highly optimized numerical libraries and use a variety of tricks to improve performance and accuracy. That being said, it is useful to understand what is under the hood and you should thoroughly read the documentation for any <tt>scipy</tt> functions that you use.\n",
    "\n",
    "In the next module, you will use <tt>odeint</tt> to learn about some of the properties of systems that are governed by nonlinear differential equations."
   ]
  },
  {
   "cell_type": "markdown",
   "metadata": {},
   "source": [
    "<h2>References</h2>\n",
    "\n",
    "<ul>\n",
    "    <li>S.H. Strogatz, <i>Nonlinear Dynamics and Chaos with Applications to Physics, Biology, Chemistry, and Engineering</i>, (Perseus Books, Reading, MA, 1994).</li>\n",
    "    <li>W.H. Press et al., <i>Numerical Recipes: The Art of Scientific Computing</i> (Cambridge University Press, Cambridge, UK, 2007).</li>\n",
    "    <li>The SciPy Community,\"<a href=\"https://docs.scipy.org/doc/scipy/reference/generated/scipy.integrate.odeint.html\">SciPy v1.3.0 Reference Guide - <tt>scipy.integrate.odeint</tt></a>\", 2019\n",
    "\n",
    "</ul>"
   ]
  }
 ],
 "metadata": {
  "kernelspec": {
   "display_name": "Python 3",
   "language": "python",
   "name": "python3"
  },
  "language_info": {
   "codemirror_mode": {
    "name": "ipython",
    "version": 3
   },
   "file_extension": ".py",
   "mimetype": "text/x-python",
   "name": "python",
   "nbconvert_exporter": "python",
   "pygments_lexer": "ipython3",
   "version": "3.8.8"
  }
 },
 "nbformat": 4,
 "nbformat_minor": 2
}
