{
 "cells": [
  {
   "cell_type": "markdown",
   "metadata": {},
   "source": [
    "# Jupyter Data Entry Tutorial\n",
    "## Inputting and presenting data using Jupyter, Pandas, and Qgrid\n",
    "by Nate Tompkins"
   ]
  },
  {
   "cell_type": "markdown",
   "metadata": {},
   "source": [
    "### Jupyter Basics"
   ]
  },
  {
   "cell_type": "markdown",
   "metadata": {},
   "source": [
    "When working in Jupyter you can write text and write code. Text is written in a \"Markdown Cell\" (such as this one). You can make big headings by adding a # at the beginning of the line and smaller headings by adding ## or ###. Normal text you just type. You enter a cell to render it by typing shift-return. When writing code you use a code cell. Entering a code cell runs the code, such as the next cell.\n",
    "\n",
    "For more information on installing Jupyter and formatting Markdown cells: https://realpython.com/jupyter-notebook-introduction/\n",
    "\n",
    "For more on plotting and writing math: https://plot.ly/python/ipython-notebook-tutorial/\n",
    "\n",
    "For a more detailed Jupyter introduction: https://jupyter-notebook.readthedocs.io/en/stable/examples/Notebook/examples_index.html"
   ]
  },
  {
   "cell_type": "code",
   "execution_count": 1,
   "metadata": {},
   "outputs": [
    {
     "data": {
      "text/plain": [
       "4"
      ]
     },
     "execution_count": 1,
     "metadata": {},
     "output_type": "execute_result"
    }
   ],
   "source": [
    "# This is a code cell, text in this cell will run as Python code.\n",
    "# Lines that begin with a # are comments and do nothing.\n",
    "# A comment can also be adding at the end of a line of code.\n",
    "2+2 # This is a very simple piece of code."
   ]
  },
  {
   "cell_type": "markdown",
   "metadata": {},
   "source": [
    "Code cells are also a very convenient calculator! They can do some pretty cool stuff."
   ]
  },
  {
   "cell_type": "code",
   "execution_count": 2,
   "metadata": {},
   "outputs": [],
   "source": [
    "# One advantage of code is the ability to store variables\n",
    "x = 2+2 # This sets the variable \"x\" equal to the result of \"2+2\""
   ]
  },
  {
   "cell_type": "code",
   "execution_count": 3,
   "metadata": {},
   "outputs": [
    {
     "data": {
      "text/plain": [
       "4"
      ]
     },
     "execution_count": 3,
     "metadata": {},
     "output_type": "execute_result"
    }
   ],
   "source": [
    "# Note that the result wasn't shown, but \"x\" is in memory\n",
    "x # Calling the variable by itself will disply its value"
   ]
  },
  {
   "cell_type": "markdown",
   "metadata": {},
   "source": [
    "Before we do anything further we need to address one issue that is very different from Excel: data permanence. If you save an Excel file, quit Excel, and reopen it: everything is still there. That is NOT the case with Jupyter. All output will still be there, but anything you've defined, like your data, will be gone. However, we can fix this using dill.\n",
    "\n",
    "Before moving further in this tutorial, quit Jupyter and reopen this file."
   ]
  },
  {
   "cell_type": "code",
   "execution_count": 1,
   "metadata": {},
   "outputs": [
    {
     "ename": "NameError",
     "evalue": "name 'x' is not defined",
     "output_type": "error",
     "traceback": [
      "\u001b[0;31m---------------------------------------------------------------------------\u001b[0m",
      "\u001b[0;31mNameError\u001b[0m                                 Traceback (most recent call last)",
      "\u001b[0;32m<ipython-input-1-9de4c3af5525>\u001b[0m in \u001b[0;36m<module>\u001b[0;34m\u001b[0m\n\u001b[1;32m      1\u001b[0m \u001b[0;31m# After restarting enter this cell\u001b[0m\u001b[0;34m\u001b[0m\u001b[0;34m\u001b[0m\u001b[0;34m\u001b[0m\u001b[0m\n\u001b[0;32m----> 2\u001b[0;31m \u001b[0mx\u001b[0m \u001b[0;31m# Remember we set this equal to 4\u001b[0m\u001b[0;34m\u001b[0m\u001b[0;34m\u001b[0m\u001b[0m\n\u001b[0m",
      "\u001b[0;31mNameError\u001b[0m: name 'x' is not defined"
     ]
    }
   ],
   "source": [
    "# After restarting enter this cell\n",
    "x # Remember we set this equal to 4"
   ]
  },
  {
   "cell_type": "markdown",
   "metadata": {},
   "source": [
    "And we get an error: \"name 'x' is not defined\"\n",
    "\n",
    "Anything stored as a variable is not saved from session to session. Note that all of the input and output is saved from session to session (as long as you remembered to save the notebook!) but variables are not. However, we can change this using a package called \"dill\" which will \"pickle\" the notebook. Python is full of \"cute\" names such as these."
   ]
  },
  {
   "cell_type": "code",
   "execution_count": 2,
   "metadata": {},
   "outputs": [
    {
     "ename": "NameError",
     "evalue": "name 'x' is not defined",
     "output_type": "error",
     "traceback": [
      "\u001b[0;31m---------------------------------------------------------------------------\u001b[0m",
      "\u001b[0;31mNameError\u001b[0m                                 Traceback (most recent call last)",
      "\u001b[0;32m<ipython-input-2-f1c02b64987f>\u001b[0m in \u001b[0;36m<module>\u001b[0;34m\u001b[0m\n\u001b[1;32m      4\u001b[0m \u001b[0mfilename\u001b[0m \u001b[0;34m=\u001b[0m \u001b[0;34m'Data_Entry_Tutorial_Data.pkl'\u001b[0m \u001b[0;31m# This is where the data file will be stored\u001b[0m\u001b[0;34m\u001b[0m\u001b[0;34m\u001b[0m\u001b[0m\n\u001b[1;32m      5\u001b[0m \u001b[0mfile\u001b[0m \u001b[0;34m=\u001b[0m \u001b[0mopen\u001b[0m\u001b[0;34m(\u001b[0m\u001b[0mfilename\u001b[0m\u001b[0;34m,\u001b[0m \u001b[0;34m'wb'\u001b[0m\u001b[0;34m)\u001b[0m \u001b[0;31m# This opens the file we are going to write the data too\u001b[0m\u001b[0;34m\u001b[0m\u001b[0;34m\u001b[0m\u001b[0m\n\u001b[0;32m----> 6\u001b[0;31m \u001b[0mdill\u001b[0m\u001b[0;34m.\u001b[0m\u001b[0mdump\u001b[0m\u001b[0;34m(\u001b[0m\u001b[0mx\u001b[0m\u001b[0;34m,\u001b[0m \u001b[0mfile\u001b[0m\u001b[0;34m)\u001b[0m \u001b[0;31m# This write the variable \"x\" to the \"file\" we specified\u001b[0m\u001b[0;34m\u001b[0m\u001b[0;34m\u001b[0m\u001b[0m\n\u001b[0m\u001b[1;32m      7\u001b[0m \u001b[0mfile\u001b[0m\u001b[0;34m.\u001b[0m\u001b[0mclose\u001b[0m\u001b[0;34m(\u001b[0m\u001b[0;34m)\u001b[0m \u001b[0;31m# This closes the file\u001b[0m\u001b[0;34m\u001b[0m\u001b[0;34m\u001b[0m\u001b[0m\n",
      "\u001b[0;31mNameError\u001b[0m: name 'x' is not defined"
     ]
    }
   ],
   "source": [
    "# Running this cell is equivalent so saving your progress\n",
    "# Before you turn off the computer, or after every significant change, run this cell\n",
    "import dill # Dill is a package that lets us save everything under the hood\n",
    "filename = 'Data_Entry_Tutorial_Data.pkl' # This is where the data file will be stored\n",
    "file = open(filename, 'wb') # This opens the file we are going to write the data too\n",
    "dill.dump(x, file) # This write the variable \"x\" to the \"file\" we specified\n",
    "file.close() # This closes the file"
   ]
  },
  {
   "cell_type": "code",
   "execution_count": 3,
   "metadata": {},
   "outputs": [
    {
     "data": {
      "text/plain": [
       "(4, 6)"
      ]
     },
     "execution_count": 3,
     "metadata": {},
     "output_type": "execute_result"
    }
   ],
   "source": [
    "# To test this lets save some variables\n",
    "x = 2+2\n",
    "y = 3+3\n",
    "x,y"
   ]
  },
  {
   "cell_type": "code",
   "execution_count": 4,
   "metadata": {},
   "outputs": [],
   "source": [
    "# We have to save the file AFTER the variable is in memory\n",
    "import dill # It never hurts to reimport a package\n",
    "filename = 'Data_Entry_Tutorial_Data.pkl' # This is where the data file will be stored\n",
    "file = open(filename, 'wb') # This opens the file we are going to write the data to\n",
    "dill.dump(x, file) # This write the variable \"x\" to the \"file\" we specified\n",
    "dill.dump(y, file) # This write the variable \"y\" to the \"file\" we specified\n",
    "file.close() # This closes the file"
   ]
  },
  {
   "cell_type": "markdown",
   "metadata": {},
   "source": [
    "Before moving further in this tutorial, quit Jupyter and reopen this file."
   ]
  },
  {
   "cell_type": "code",
   "execution_count": 1,
   "metadata": {},
   "outputs": [],
   "source": [
    "# To load your data, run this this cell\n",
    "import dill # It never hurts to reimport a package\n",
    "filename = 'Data_Entry_Tutorial_Data.pkl' # This is where the data file is stored\n",
    "file = open(filename,'rb') # This opens the file we are going to read the data from\n",
    "x = dill.load(file) # This loads the variable \"x\" from the file storing the data\n",
    "y = dill.load(file) # This loads the variable \"y\" from the file storing the data\n",
    "file.close() # This closes the file"
   ]
  },
  {
   "cell_type": "code",
   "execution_count": 2,
   "metadata": {},
   "outputs": [
    {
     "data": {
      "text/plain": [
       "(4, 6)"
      ]
     },
     "execution_count": 2,
     "metadata": {},
     "output_type": "execute_result"
    }
   ],
   "source": [
    "# Time to check that the variables loaded as advertised\n",
    "x,y"
   ]
  },
  {
   "cell_type": "markdown",
   "metadata": {},
   "source": [
    "Success!\n",
    "\n",
    "This is an important step. Be sure to run a cell with the save code after you've entered anything you'd like saved."
   ]
  },
  {
   "cell_type": "code",
   "execution_count": null,
   "metadata": {},
   "outputs": [],
   "source": [
    "# Save code:\n",
    "import dill # It never hurts to reimport a package\n",
    "filename = 'Data_Entry_Tutorial_Data.pkl' # This is where the data file will be stored\n",
    "file = open(filename, 'wb') # This opens the file we are going to write the data to\n",
    "dill.dump(x, file) # This write the variable \"x\" to the \"file\" we specified\n",
    "file.close() # This closes the file\n",
    "\n",
    "# Load code: \n",
    "import dill # It never hurts to reimport a package\n",
    "filename = 'Data_Entry_Tutorial_Data.pkl' # This is where the data file is stored\n",
    "file = open(filename,'rb') # This opens the file we are going to read the data from\n",
    "x = dill.load(file) # This loads the variable \"x\" from the file storing the data\n",
    "file.close() # This closes the file"
   ]
  },
  {
   "cell_type": "markdown",
   "metadata": {},
   "source": [
    "### Data Entry"
   ]
  },
  {
   "cell_type": "markdown",
   "metadata": {},
   "source": [
    "The purpose of this tutorial is to enter data and plot data. Data is entered as a pandas object using a qgrid frame. It isn't import to understand the details, but if you want to do something not included here there are excellent resources online. A quick Google search can show you how to do most anything. This is the first thing I will do if you ask me. What is important is that if you are having a problem entering data you need to Google \"qgrid problem\" and if you are having a problem manipulating the data that is already entered then you need to Google \"pandas problem\" instead."
   ]
  },
  {
   "cell_type": "code",
   "execution_count": 2,
   "metadata": {},
   "outputs": [],
   "source": [
    "# This cell imports all of the data import commands, it must be run before doing anything else.\n",
    "import numpy as np # This imports numerical python, essentially math commands in Python.\n",
    "import pandas as pd # This imports the data type pandas.\n",
    "import qgrid # This imports qgrid, the data entry frame.\n",
    "import matplotlib.pyplot as plt # This imports the ability to plot.\n",
    "from scipy.optimize import curve_fit # This imports curve fitting."
   ]
  },
  {
   "cell_type": "code",
   "execution_count": 3,
   "metadata": {},
   "outputs": [
    {
     "data": {
      "application/vnd.jupyter.widget-view+json": {
       "model_id": "534355cb1384437d9589f18fa1fecb24",
       "version_major": 2,
       "version_minor": 0
      },
      "text/plain": [
       "QgridWidget(grid_options={'fullWidthRows': True, 'syncColumnCellResize': True, 'forceFitColumns': True, 'defau…"
      ]
     },
     "metadata": {},
     "output_type": "display_data"
    }
   ],
   "source": [
    "#### The next piece of code creates a simple data entry table.\n",
    "startinglength = 5; # This is the initial length of the table, you can make it longer later.\n",
    "data_table = pd.DataFrame({\n",
    "    'time' :pd.Series(0,index=list(range(startinglength)),dtype='float32') ,\n",
    "    'position' : pd.Series(0,index=list(range(startinglength)),dtype='float32')\n",
    "})\n",
    "qgrid_widget = qgrid.show_grid(data_table, show_toolbar=True);\n",
    "qgrid_widget"
   ]
  },
  {
   "cell_type": "markdown",
   "metadata": {},
   "source": [
    "The column on the left is the data point number. In computer science counting starts at zero. Before moving on, change some of the numbers above. Then, run the cell below."
   ]
  },
  {
   "cell_type": "code",
   "execution_count": 4,
   "metadata": {},
   "outputs": [
    {
     "data": {
      "text/html": [
       "<div>\n",
       "<style scoped>\n",
       "    .dataframe tbody tr th:only-of-type {\n",
       "        vertical-align: middle;\n",
       "    }\n",
       "\n",
       "    .dataframe tbody tr th {\n",
       "        vertical-align: top;\n",
       "    }\n",
       "\n",
       "    .dataframe thead th {\n",
       "        text-align: right;\n",
       "    }\n",
       "</style>\n",
       "<table border=\"1\" class=\"dataframe\">\n",
       "  <thead>\n",
       "    <tr style=\"text-align: right;\">\n",
       "      <th></th>\n",
       "      <th>time</th>\n",
       "      <th>position</th>\n",
       "    </tr>\n",
       "  </thead>\n",
       "  <tbody>\n",
       "    <tr>\n",
       "      <th>0</th>\n",
       "      <td>0.0</td>\n",
       "      <td>0.0</td>\n",
       "    </tr>\n",
       "    <tr>\n",
       "      <th>1</th>\n",
       "      <td>0.0</td>\n",
       "      <td>0.0</td>\n",
       "    </tr>\n",
       "    <tr>\n",
       "      <th>2</th>\n",
       "      <td>0.0</td>\n",
       "      <td>0.0</td>\n",
       "    </tr>\n",
       "    <tr>\n",
       "      <th>3</th>\n",
       "      <td>0.0</td>\n",
       "      <td>0.0</td>\n",
       "    </tr>\n",
       "    <tr>\n",
       "      <th>4</th>\n",
       "      <td>0.0</td>\n",
       "      <td>0.0</td>\n",
       "    </tr>\n",
       "  </tbody>\n",
       "</table>\n",
       "</div>"
      ],
      "text/plain": [
       "   time  position\n",
       "0   0.0       0.0\n",
       "1   0.0       0.0\n",
       "2   0.0       0.0\n",
       "3   0.0       0.0\n",
       "4   0.0       0.0"
      ]
     },
     "execution_count": 4,
     "metadata": {},
     "output_type": "execute_result"
    }
   ],
   "source": [
    "qgrid_widget.get_changed_df() # Display the table with your updates included"
   ]
  },
  {
   "cell_type": "markdown",
   "metadata": {},
   "source": [
    "The data changes when you type a new value and hit return. Basic data entry!"
   ]
  },
  {
   "cell_type": "markdown",
   "metadata": {},
   "source": [
    "Note though that the variable \"data_table\" we created hasn't been updated!"
   ]
  },
  {
   "cell_type": "code",
   "execution_count": 6,
   "metadata": {},
   "outputs": [
    {
     "data": {
      "text/html": [
       "<div>\n",
       "<style scoped>\n",
       "    .dataframe tbody tr th:only-of-type {\n",
       "        vertical-align: middle;\n",
       "    }\n",
       "\n",
       "    .dataframe tbody tr th {\n",
       "        vertical-align: top;\n",
       "    }\n",
       "\n",
       "    .dataframe thead th {\n",
       "        text-align: right;\n",
       "    }\n",
       "</style>\n",
       "<table border=\"1\" class=\"dataframe\">\n",
       "  <thead>\n",
       "    <tr style=\"text-align: right;\">\n",
       "      <th></th>\n",
       "      <th>time</th>\n",
       "      <th>position</th>\n",
       "    </tr>\n",
       "  </thead>\n",
       "  <tbody>\n",
       "    <tr>\n",
       "      <th>0</th>\n",
       "      <td>0.0</td>\n",
       "      <td>0.0</td>\n",
       "    </tr>\n",
       "    <tr>\n",
       "      <th>1</th>\n",
       "      <td>0.0</td>\n",
       "      <td>0.0</td>\n",
       "    </tr>\n",
       "    <tr>\n",
       "      <th>2</th>\n",
       "      <td>0.0</td>\n",
       "      <td>0.0</td>\n",
       "    </tr>\n",
       "    <tr>\n",
       "      <th>3</th>\n",
       "      <td>0.0</td>\n",
       "      <td>0.0</td>\n",
       "    </tr>\n",
       "    <tr>\n",
       "      <th>4</th>\n",
       "      <td>0.0</td>\n",
       "      <td>0.0</td>\n",
       "    </tr>\n",
       "  </tbody>\n",
       "</table>\n",
       "</div>"
      ],
      "text/plain": [
       "   time  position\n",
       "0   0.0       0.0\n",
       "1   0.0       0.0\n",
       "2   0.0       0.0\n",
       "3   0.0       0.0\n",
       "4   0.0       0.0"
      ]
     },
     "execution_count": 6,
     "metadata": {},
     "output_type": "execute_result"
    }
   ],
   "source": [
    "data_table # This is still the inital data table, without your updates"
   ]
  },
  {
   "cell_type": "markdown",
   "metadata": {},
   "source": [
    "However, the values we entered are still stored in the computer and we can save them as our data."
   ]
  },
  {
   "cell_type": "code",
   "execution_count": 7,
   "metadata": {},
   "outputs": [
    {
     "data": {
      "text/html": [
       "<div>\n",
       "<style scoped>\n",
       "    .dataframe tbody tr th:only-of-type {\n",
       "        vertical-align: middle;\n",
       "    }\n",
       "\n",
       "    .dataframe tbody tr th {\n",
       "        vertical-align: top;\n",
       "    }\n",
       "\n",
       "    .dataframe thead th {\n",
       "        text-align: right;\n",
       "    }\n",
       "</style>\n",
       "<table border=\"1\" class=\"dataframe\">\n",
       "  <thead>\n",
       "    <tr style=\"text-align: right;\">\n",
       "      <th></th>\n",
       "      <th>time</th>\n",
       "      <th>position</th>\n",
       "    </tr>\n",
       "  </thead>\n",
       "  <tbody>\n",
       "    <tr>\n",
       "      <th>0</th>\n",
       "      <td>0.0</td>\n",
       "      <td>0.0</td>\n",
       "    </tr>\n",
       "    <tr>\n",
       "      <th>1</th>\n",
       "      <td>1.0</td>\n",
       "      <td>2.0</td>\n",
       "    </tr>\n",
       "    <tr>\n",
       "      <th>2</th>\n",
       "      <td>2.0</td>\n",
       "      <td>3.0</td>\n",
       "    </tr>\n",
       "    <tr>\n",
       "      <th>3</th>\n",
       "      <td>3.0</td>\n",
       "      <td>6.0</td>\n",
       "    </tr>\n",
       "    <tr>\n",
       "      <th>4</th>\n",
       "      <td>4.0</td>\n",
       "      <td>9.0</td>\n",
       "    </tr>\n",
       "    <tr>\n",
       "      <th>5</th>\n",
       "      <td>5.0</td>\n",
       "      <td>10.0</td>\n",
       "    </tr>\n",
       "  </tbody>\n",
       "</table>\n",
       "</div>"
      ],
      "text/plain": [
       "   time  position\n",
       "0   0.0       0.0\n",
       "1   1.0       2.0\n",
       "2   2.0       3.0\n",
       "3   3.0       6.0\n",
       "4   4.0       9.0\n",
       "5   5.0      10.0"
      ]
     },
     "execution_count": 7,
     "metadata": {},
     "output_type": "execute_result"
    }
   ],
   "source": [
    "# The variable data will store all of the data we entered above.\n",
    "# If we go back and change the data table the variable data will NOT automatically update.\n",
    "data = qgrid_widget.get_changed_df() # This creates a new variable called data with your updates\n",
    "data # Putting a variable on its own line displays that variable"
   ]
  },
  {
   "cell_type": "code",
   "execution_count": 9,
   "metadata": {},
   "outputs": [],
   "source": [
    "# We entered data and stored it as a variable, we should save that to the computer!\n",
    "#\n",
    "# BE SURE TO CHANGE \"x\" TO \"data\" to save your data!\n",
    "#\n",
    "# Save code:\n",
    "import dill # It never hurts to reimport a package\n",
    "filename = 'Data_Entry_Tutorial_Data.pkl' # This is where the data file will be stored\n",
    "file = open(filename, 'wb') # This opens the file we are going to write the data to\n",
    "dill.dump(data, file) # This write the variable \"data\" to the \"file\" we specified\n",
    "file.close() # This closes the file"
   ]
  },
  {
   "cell_type": "markdown",
   "metadata": {},
   "source": [
    "Just to check everything, lets restart the kernel again before continuing."
   ]
  },
  {
   "cell_type": "code",
   "execution_count": 1,
   "metadata": {},
   "outputs": [
    {
     "ename": "NameError",
     "evalue": "name 'data' is not defined",
     "output_type": "error",
     "traceback": [
      "\u001b[0;31m---------------------------------------------------------------------------\u001b[0m",
      "\u001b[0;31mNameError\u001b[0m                                 Traceback (most recent call last)",
      "\u001b[0;32m<ipython-input-1-dac7f4d47897>\u001b[0m in \u001b[0;36m<module>\u001b[0;34m\u001b[0m\n\u001b[1;32m      1\u001b[0m \u001b[0;31m# Is the data stored?\u001b[0m\u001b[0;34m\u001b[0m\u001b[0;34m\u001b[0m\u001b[0;34m\u001b[0m\u001b[0m\n\u001b[0;32m----> 2\u001b[0;31m \u001b[0mdata\u001b[0m\u001b[0;34m\u001b[0m\u001b[0;34m\u001b[0m\u001b[0m\n\u001b[0m",
      "\u001b[0;31mNameError\u001b[0m: name 'data' is not defined"
     ]
    }
   ],
   "source": [
    "# Is the data stored?\n",
    "data"
   ]
  },
  {
   "cell_type": "code",
   "execution_count": 2,
   "metadata": {},
   "outputs": [
    {
     "data": {
      "text/html": [
       "<div>\n",
       "<style scoped>\n",
       "    .dataframe tbody tr th:only-of-type {\n",
       "        vertical-align: middle;\n",
       "    }\n",
       "\n",
       "    .dataframe tbody tr th {\n",
       "        vertical-align: top;\n",
       "    }\n",
       "\n",
       "    .dataframe thead th {\n",
       "        text-align: right;\n",
       "    }\n",
       "</style>\n",
       "<table border=\"1\" class=\"dataframe\">\n",
       "  <thead>\n",
       "    <tr style=\"text-align: right;\">\n",
       "      <th></th>\n",
       "      <th>time</th>\n",
       "      <th>position</th>\n",
       "    </tr>\n",
       "  </thead>\n",
       "  <tbody>\n",
       "    <tr>\n",
       "      <th>0</th>\n",
       "      <td>0.0</td>\n",
       "      <td>0.0</td>\n",
       "    </tr>\n",
       "    <tr>\n",
       "      <th>1</th>\n",
       "      <td>1.0</td>\n",
       "      <td>2.0</td>\n",
       "    </tr>\n",
       "    <tr>\n",
       "      <th>2</th>\n",
       "      <td>2.0</td>\n",
       "      <td>3.0</td>\n",
       "    </tr>\n",
       "    <tr>\n",
       "      <th>3</th>\n",
       "      <td>3.0</td>\n",
       "      <td>6.0</td>\n",
       "    </tr>\n",
       "    <tr>\n",
       "      <th>4</th>\n",
       "      <td>4.0</td>\n",
       "      <td>9.0</td>\n",
       "    </tr>\n",
       "    <tr>\n",
       "      <th>5</th>\n",
       "      <td>5.0</td>\n",
       "      <td>10.0</td>\n",
       "    </tr>\n",
       "  </tbody>\n",
       "</table>\n",
       "</div>"
      ],
      "text/plain": [
       "   time  position\n",
       "0   0.0       0.0\n",
       "1   1.0       2.0\n",
       "2   2.0       3.0\n",
       "3   3.0       6.0\n",
       "4   4.0       9.0\n",
       "5   5.0      10.0"
      ]
     },
     "execution_count": 2,
     "metadata": {},
     "output_type": "execute_result"
    }
   ],
   "source": [
    "# How about now?\n",
    "# Load code: \n",
    "import dill # It never hurts to reimport a package\n",
    "filename = 'Data_Entry_Tutorial_Data.pkl' # This is where the data file is stored\n",
    "file = open(filename,'rb') # This opens the file we are going to read the data from\n",
    "data = dill.load(file) # This loads the variable \"x\" from the file storing the data\n",
    "file.close() # This closes the file\n",
    "data"
   ]
  },
  {
   "cell_type": "markdown",
   "metadata": {},
   "source": [
    "So now we have our data!\n",
    "For a sanity check we can pull the time and position lists out separately."
   ]
  },
  {
   "cell_type": "code",
   "execution_count": 3,
   "metadata": {},
   "outputs": [
    {
     "data": {
      "text/plain": [
       "0    0.0\n",
       "1    1.0\n",
       "2    2.0\n",
       "3    3.0\n",
       "4    4.0\n",
       "5    5.0\n",
       "Name: time, dtype: float64"
      ]
     },
     "execution_count": 3,
     "metadata": {},
     "output_type": "execute_result"
    }
   ],
   "source": [
    "time = data['time'] # Here are the time points from our data set\n",
    "time"
   ]
  },
  {
   "cell_type": "markdown",
   "metadata": {},
   "source": [
    "The name of the data will be very useful later. The data type, float64, isn't important."
   ]
  },
  {
   "cell_type": "code",
   "execution_count": 4,
   "metadata": {},
   "outputs": [
    {
     "data": {
      "text/plain": [
       "0     0.0\n",
       "1     2.0\n",
       "2     3.0\n",
       "3     6.0\n",
       "4     9.0\n",
       "5    10.0\n",
       "Name: position, dtype: float64"
      ]
     },
     "execution_count": 4,
     "metadata": {},
     "output_type": "execute_result"
    }
   ],
   "source": [
    "position = data['position'] # Here are the position points from our data set\n",
    "position"
   ]
  },
  {
   "cell_type": "markdown",
   "metadata": {},
   "source": [
    "### Data Plotting"
   ]
  },
  {
   "cell_type": "code",
   "execution_count": 6,
   "metadata": {},
   "outputs": [],
   "source": [
    "# If you've restarted the kernal recently...\n",
    "# This cell imports all of the data import commands, it must be run before doing anything else.\n",
    "import numpy as np # This imports numerical python, essentially math commands in Python.\n",
    "import pandas as pd # This imports the data type pandas.\n",
    "import qgrid # This imports qgrid, the data entry frame.\n",
    "import matplotlib.pyplot as plt # This imports the ability to plot.\n",
    "from scipy.optimize import curve_fit # This imports curve fitting."
   ]
  },
  {
   "cell_type": "code",
   "execution_count": 7,
   "metadata": {
    "scrolled": false
   },
   "outputs": [
    {
     "data": {
      "image/png": "[encoded data removed]",
      "text/plain": [
       "<Figure size 432x288 with 1 Axes>"
      ]
     },
     "metadata": {
      "needs_background": "light"
     },
     "output_type": "display_data"
    }
   ],
   "source": [
    "# This is the basic plotting command.\n",
    "# Advanced plotting options can be found by searching for \"pandas plot options\" online.\n",
    "data.plot.scatter(x='time',y='position'); # Plotting our data with time on the x axis and position on the y axis"
   ]
  },
  {
   "cell_type": "markdown",
   "metadata": {},
   "source": [
    "This looks like we expected! Sometimes we'll want to do something like calculate the mean or standard deviation of our data."
   ]
  },
  {
   "cell_type": "code",
   "execution_count": 8,
   "metadata": {},
   "outputs": [
    {
     "data": {
      "text/plain": [
       "time        2.5\n",
       "position    5.0\n",
       "dtype: float64"
      ]
     },
     "execution_count": 8,
     "metadata": {},
     "output_type": "execute_result"
    }
   ],
   "source": [
    "data.mean() # Calculate the mean time and mean position"
   ]
  },
  {
   "cell_type": "code",
   "execution_count": 9,
   "metadata": {},
   "outputs": [
    {
     "data": {
      "text/plain": [
       "time        1.870829\n",
       "position    4.000000\n",
       "dtype: float64"
      ]
     },
     "execution_count": 9,
     "metadata": {},
     "output_type": "execute_result"
    }
   ],
   "source": [
    "data.std() # Calculate the standard deviation of time and position"
   ]
  },
  {
   "cell_type": "markdown",
   "metadata": {},
   "source": [
    "At this point you should know enough to be able to go and add a third column (velocity), enter values, and plot the data. "
   ]
  },
  {
   "cell_type": "code",
   "execution_count": 10,
   "metadata": {},
   "outputs": [
    {
     "data": {
      "application/vnd.jupyter.widget-view+json": {
       "model_id": "7e62631655a2473f864f8bb82010ce5e",
       "version_major": 2,
       "version_minor": 0
      },
      "text/plain": [
       "QgridWidget(grid_options={'fullWidthRows': True, 'syncColumnCellResize': True, 'forceFitColumns': True, 'defau…"
      ]
     },
     "metadata": {},
     "output_type": "display_data"
    }
   ],
   "source": [
    "# The next piece of code creates a simple data entry table.\n",
    "startinglength = 5; # This is the initial length of the table, you can make it longer later.\n",
    "data_table = pd.DataFrame({\n",
    "    'time' :pd.Series(0,index=list(range(startinglength)),dtype='float32') ,\n",
    "    'position' : pd.Series(0,index=list(range(startinglength)),dtype='float32'),\n",
    "    'velocity' : pd.Series(0,index=list(range(startinglength)),dtype='float32')\n",
    "})\n",
    "qgrid_widget = qgrid.show_grid(data_table, show_toolbar=True)\n",
    "qgrid_widget"
   ]
  },
  {
   "cell_type": "code",
   "execution_count": 11,
   "metadata": {},
   "outputs": [
    {
     "data": {
      "text/html": [
       "<div>\n",
       "<style scoped>\n",
       "    .dataframe tbody tr th:only-of-type {\n",
       "        vertical-align: middle;\n",
       "    }\n",
       "\n",
       "    .dataframe tbody tr th {\n",
       "        vertical-align: top;\n",
       "    }\n",
       "\n",
       "    .dataframe thead th {\n",
       "        text-align: right;\n",
       "    }\n",
       "</style>\n",
       "<table border=\"1\" class=\"dataframe\">\n",
       "  <thead>\n",
       "    <tr style=\"text-align: right;\">\n",
       "      <th></th>\n",
       "      <th>time</th>\n",
       "      <th>position</th>\n",
       "      <th>velocity</th>\n",
       "    </tr>\n",
       "  </thead>\n",
       "  <tbody>\n",
       "    <tr>\n",
       "      <th>0</th>\n",
       "      <td>0.0</td>\n",
       "      <td>0.0</td>\n",
       "      <td>1.0</td>\n",
       "    </tr>\n",
       "    <tr>\n",
       "      <th>1</th>\n",
       "      <td>1.0</td>\n",
       "      <td>2.0</td>\n",
       "      <td>0.9</td>\n",
       "    </tr>\n",
       "    <tr>\n",
       "      <th>2</th>\n",
       "      <td>2.0</td>\n",
       "      <td>3.9</td>\n",
       "      <td>1.1</td>\n",
       "    </tr>\n",
       "    <tr>\n",
       "      <th>3</th>\n",
       "      <td>3.0</td>\n",
       "      <td>6.1</td>\n",
       "      <td>1.0</td>\n",
       "    </tr>\n",
       "    <tr>\n",
       "      <th>4</th>\n",
       "      <td>4.0</td>\n",
       "      <td>8.0</td>\n",
       "      <td>1.0</td>\n",
       "    </tr>\n",
       "    <tr>\n",
       "      <th>5</th>\n",
       "      <td>5.0</td>\n",
       "      <td>9.9</td>\n",
       "      <td>0.9</td>\n",
       "    </tr>\n",
       "  </tbody>\n",
       "</table>\n",
       "</div>"
      ],
      "text/plain": [
       "   time  position  velocity\n",
       "0   0.0       0.0       1.0\n",
       "1   1.0       2.0       0.9\n",
       "2   2.0       3.9       1.1\n",
       "3   3.0       6.1       1.0\n",
       "4   4.0       8.0       1.0\n",
       "5   5.0       9.9       0.9"
      ]
     },
     "execution_count": 11,
     "metadata": {},
     "output_type": "execute_result"
    }
   ],
   "source": [
    "data2 = qgrid_widget.get_changed_df() # This creates a new variable called data with your updates\n",
    "data2 # Putting a variable on its own line displays that variable"
   ]
  },
  {
   "cell_type": "code",
   "execution_count": 12,
   "metadata": {},
   "outputs": [],
   "source": [
    "# We entered data and stored it as a variable, we should save that to the computer!\n",
    "#\n",
    "# BE SURE TO CHANGE \"x\" TO \"data2\" to save your data!\n",
    "#\n",
    "# Save code:\n",
    "import dill # It never hurts to reimport a package\n",
    "filename = 'Data_Entry_Tutorial_Data.pkl' # This is where the data file will be stored\n",
    "file = open(filename, 'wb') # This opens the file we are going to write the data to\n",
    "dill.dump(data2, file) # This write the variable \"data\" to the \"file\" we specified\n",
    "file.close() # This closes the file"
   ]
  },
  {
   "cell_type": "code",
   "execution_count": 13,
   "metadata": {},
   "outputs": [
    {
     "data": {
      "image/png": "[encoded data removed]",
      "text/plain": [
       "<Figure size 432x288 with 1 Axes>"
      ]
     },
     "metadata": {
      "needs_background": "light"
     },
     "output_type": "display_data"
    }
   ],
   "source": [
    "# Make the first plot\n",
    "firstplot = data2.plot.scatter(x='time', y='position', color='Blue', s=25, label='Position');\n",
    "# Add it to the second plot\n",
    "data2.plot.scatter(x='time', y='velocity', color='Red', s=10, label='Velocity', ax=firstplot);"
   ]
  },
  {
   "cell_type": "code",
   "execution_count": 14,
   "metadata": {},
   "outputs": [
    {
     "data": {
      "text/plain": [
       "time        2.500000\n",
       "position    4.983333\n",
       "velocity    0.983333\n",
       "dtype: float64"
      ]
     },
     "execution_count": 14,
     "metadata": {},
     "output_type": "execute_result"
    }
   ],
   "source": [
    "data2.mean()"
   ]
  },
  {
   "cell_type": "code",
   "execution_count": 15,
   "metadata": {},
   "outputs": [
    {
     "data": {
      "text/plain": [
       "time        1.870829\n",
       "position    3.726348\n",
       "velocity    0.075277\n",
       "dtype: float64"
      ]
     },
     "execution_count": 15,
     "metadata": {},
     "output_type": "execute_result"
    }
   ],
   "source": [
    "data2.std()"
   ]
  },
  {
   "cell_type": "markdown",
   "metadata": {},
   "source": [
    "One thing we might want to do is calculate a data column from two other data columns."
   ]
  },
  {
   "cell_type": "code",
   "execution_count": 16,
   "metadata": {},
   "outputs": [
    {
     "data": {
      "text/plain": [
       "0    2.00\n",
       "1    1.62\n",
       "2    2.42\n",
       "3    2.00\n",
       "4    2.00\n",
       "5    1.62\n",
       "Name: ke, dtype: float64"
      ]
     },
     "execution_count": 16,
     "metadata": {},
     "output_type": "execute_result"
    }
   ],
   "source": [
    "# We'll calculate the kinetic energy assuming a mass of 4 kg\n",
    "m = 4 # mass in kg\n",
    "data2['ke'] = 0.5*m*data2['velocity']**2 # The ** is \"raised to the power of\" in Python, similar to ^ or ee\n",
    "data2['ke']"
   ]
  },
  {
   "cell_type": "code",
   "execution_count": 17,
   "metadata": {},
   "outputs": [
    {
     "data": {
      "image/png": "[encoded data removed]",
      "text/plain": [
       "<Figure size 432x288 with 1 Axes>"
      ]
     },
     "metadata": {
      "needs_background": "light"
     },
     "output_type": "display_data"
    }
   ],
   "source": [
    "data2.plot.scatter(x='time', y='ke', color='Blue', s=25, label='Kinetic Energy');"
   ]
  },
  {
   "cell_type": "code",
   "execution_count": 18,
   "metadata": {},
   "outputs": [],
   "source": [
    "# We entered data and stored it as a variable, we should save that to the computer!\n",
    "#\n",
    "# BE SURE TO CHANGE \"x\" TO \"data2\" to save your data!\n",
    "#\n",
    "# Save code:\n",
    "import dill # It never hurts to reimport a package\n",
    "filename = 'Data_Entry_Tutorial_Data.pkl' # This is where the data file will be stored\n",
    "file = open(filename, 'wb') # This opens the file we are going to write the data to\n",
    "dill.dump(data2, file) # This write the variable \"data\" to the \"file\" we specified\n",
    "file.close() # This closes the file"
   ]
  },
  {
   "cell_type": "markdown",
   "metadata": {},
   "source": [
    "Another thing we might want to do is to compare our data with a curve fit."
   ]
  },
  {
   "cell_type": "code",
   "execution_count": 19,
   "metadata": {},
   "outputs": [],
   "source": [
    "# First we need to define the function we are going to try and fit to the data\n",
    "# Here we will try a straight line, y(x) = m*x + b\n",
    "def func(x, m, b):\n",
    "    return m * x + b\n",
    "# Now we'll perform the fit\n",
    "popt, pcov = curve_fit(func, data2['time'], data2['position'])"
   ]
  },
  {
   "cell_type": "code",
   "execution_count": 20,
   "metadata": {},
   "outputs": [
    {
     "data": {
      "text/plain": [
       "array([1.99142857, 0.0047619 ])"
      ]
     },
     "execution_count": 20,
     "metadata": {},
     "output_type": "execute_result"
    }
   ],
   "source": [
    "# To see what we did, we can look at the ouput fit parameters\n",
    "popt"
   ]
  },
  {
   "cell_type": "code",
   "execution_count": 21,
   "metadata": {},
   "outputs": [
    {
     "data": {
      "image/png": "[encoded data removed]",
      "text/plain": [
       "<Figure size 432x288 with 1 Axes>"
      ]
     },
     "metadata": {
      "needs_background": "light"
     },
     "output_type": "display_data"
    }
   ],
   "source": [
    "# Now lets plot the curve fit over the original data\n",
    "plt.scatter(data2['time'], data2['position'], label='Data',s=25,c='b',);\n",
    "plt.plot(data2['time'], func(data2['time'], *popt),label='Fit: m=%5.3f, b=%5.3f' % tuple(popt),c='g',linewidth=1.0);\n",
    "plt.xlabel('x')\n",
    "plt.ylabel('y')\n",
    "plt.legend()\n",
    "plt.show()"
   ]
  },
  {
   "cell_type": "markdown",
   "metadata": {},
   "source": [
    "This should be enough to get you started!"
   ]
  }
 ],
 "metadata": {
  "kernelspec": {
   "display_name": "Python 3",
   "language": "python",
   "name": "python3"
  },
  "language_info": {
   "codemirror_mode": {
    "name": "ipython",
    "version": 3
   },
   "file_extension": ".py",
   "mimetype": "text/x-python",
   "name": "python",
   "nbconvert_exporter": "python",
   "pygments_lexer": "ipython3",
   "version": "3.8.8"
  }
 },
 "nbformat": 4,
 "nbformat_minor": 2
}
